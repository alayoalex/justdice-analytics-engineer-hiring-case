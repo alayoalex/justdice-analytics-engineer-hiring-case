{
 "cells": [
  {
   "cell_type": "code",
   "execution_count": 2,
   "metadata": {},
   "outputs": [],
   "source": [
    "from dateutil.parser import parse\n",
    "from datetime import datetime, timedelta, timezone, time\n",
    "import matplotlib as mpl\n",
    "import matplotlib.pyplot as plt\n",
    "import pandas as pd\n",
    "import numpy as np\n",
    "from IPython.display import Image\n",
    "import seaborn as sns\n",
    "sns.set()\n"
   ]
  },
  {
   "cell_type": "code",
   "execution_count": 22,
   "metadata": {},
   "outputs": [],
   "source": [
    "df_adspend = pd.read_csv('data/adspend.csv')\n",
    "\n",
    "df_installs = pd.read_csv('data/installs.csv')\n",
    "\n",
    "df_payouts = pd.read_csv('data/payouts.csv')\n",
    "\n",
    "df_revenue = pd.read_csv('data/revenue.csv')\n"
   ]
  },
  {
   "cell_type": "code",
   "execution_count": 4,
   "metadata": {},
   "outputs": [
    {
     "data": {
      "text/html": [
       "<div>\n",
       "<style scoped>\n",
       "    .dataframe tbody tr th:only-of-type {\n",
       "        vertical-align: middle;\n",
       "    }\n",
       "\n",
       "    .dataframe tbody tr th {\n",
       "        vertical-align: top;\n",
       "    }\n",
       "\n",
       "    .dataframe thead th {\n",
       "        text-align: right;\n",
       "    }\n",
       "</style>\n",
       "<table border=\"1\" class=\"dataframe\">\n",
       "  <thead>\n",
       "    <tr style=\"text-align: right;\">\n",
       "      <th></th>\n",
       "      <th>event_date</th>\n",
       "      <th>country_id</th>\n",
       "      <th>network_id</th>\n",
       "      <th>client_id</th>\n",
       "      <th>value_usd</th>\n",
       "    </tr>\n",
       "  </thead>\n",
       "  <tbody>\n",
       "    <tr>\n",
       "      <th>0</th>\n",
       "      <td>2022-01-01</td>\n",
       "      <td>1</td>\n",
       "      <td>10</td>\n",
       "      <td>71</td>\n",
       "      <td>4.680000</td>\n",
       "    </tr>\n",
       "    <tr>\n",
       "      <th>1</th>\n",
       "      <td>2022-01-01</td>\n",
       "      <td>1</td>\n",
       "      <td>10</td>\n",
       "      <td>94</td>\n",
       "      <td>223.439997</td>\n",
       "    </tr>\n",
       "    <tr>\n",
       "      <th>2</th>\n",
       "      <td>2022-01-01</td>\n",
       "      <td>1</td>\n",
       "      <td>10</td>\n",
       "      <td>104</td>\n",
       "      <td>0.800000</td>\n",
       "    </tr>\n",
       "    <tr>\n",
       "      <th>3</th>\n",
       "      <td>2022-01-01</td>\n",
       "      <td>1</td>\n",
       "      <td>10</td>\n",
       "      <td>121</td>\n",
       "      <td>4.870000</td>\n",
       "    </tr>\n",
       "    <tr>\n",
       "      <th>4</th>\n",
       "      <td>2022-01-01</td>\n",
       "      <td>1</td>\n",
       "      <td>10</td>\n",
       "      <td>174</td>\n",
       "      <td>1.300000</td>\n",
       "    </tr>\n",
       "    <tr>\n",
       "      <th>5</th>\n",
       "      <td>2022-01-01</td>\n",
       "      <td>1</td>\n",
       "      <td>10</td>\n",
       "      <td>189</td>\n",
       "      <td>1.450000</td>\n",
       "    </tr>\n",
       "    <tr>\n",
       "      <th>6</th>\n",
       "      <td>2022-01-01</td>\n",
       "      <td>1</td>\n",
       "      <td>60</td>\n",
       "      <td>71</td>\n",
       "      <td>9.230000</td>\n",
       "    </tr>\n",
       "    <tr>\n",
       "      <th>7</th>\n",
       "      <td>2022-01-01</td>\n",
       "      <td>1</td>\n",
       "      <td>60</td>\n",
       "      <td>94</td>\n",
       "      <td>127.428002</td>\n",
       "    </tr>\n",
       "    <tr>\n",
       "      <th>8</th>\n",
       "      <td>2022-01-01</td>\n",
       "      <td>1</td>\n",
       "      <td>60</td>\n",
       "      <td>104</td>\n",
       "      <td>4.338000</td>\n",
       "    </tr>\n",
       "    <tr>\n",
       "      <th>9</th>\n",
       "      <td>2022-01-01</td>\n",
       "      <td>1</td>\n",
       "      <td>60</td>\n",
       "      <td>121</td>\n",
       "      <td>26.880000</td>\n",
       "    </tr>\n",
       "  </tbody>\n",
       "</table>\n",
       "</div>"
      ],
      "text/plain": [
       "   event_date  country_id  network_id  client_id   value_usd\n",
       "0  2022-01-01           1          10         71    4.680000\n",
       "1  2022-01-01           1          10         94  223.439997\n",
       "2  2022-01-01           1          10        104    0.800000\n",
       "3  2022-01-01           1          10        121    4.870000\n",
       "4  2022-01-01           1          10        174    1.300000\n",
       "5  2022-01-01           1          10        189    1.450000\n",
       "6  2022-01-01           1          60         71    9.230000\n",
       "7  2022-01-01           1          60         94  127.428002\n",
       "8  2022-01-01           1          60        104    4.338000\n",
       "9  2022-01-01           1          60        121   26.880000"
      ]
     },
     "execution_count": 4,
     "metadata": {},
     "output_type": "execute_result"
    }
   ],
   "source": [
    "df_adspend.head(10)"
   ]
  },
  {
   "cell_type": "code",
   "execution_count": 5,
   "metadata": {},
   "outputs": [
    {
     "data": {
      "text/html": [
       "<div>\n",
       "<style scoped>\n",
       "    .dataframe tbody tr th:only-of-type {\n",
       "        vertical-align: middle;\n",
       "    }\n",
       "\n",
       "    .dataframe tbody tr th {\n",
       "        vertical-align: top;\n",
       "    }\n",
       "\n",
       "    .dataframe thead th {\n",
       "        text-align: right;\n",
       "    }\n",
       "</style>\n",
       "<table border=\"1\" class=\"dataframe\">\n",
       "  <thead>\n",
       "    <tr style=\"text-align: right;\">\n",
       "      <th></th>\n",
       "      <th>install_id</th>\n",
       "      <th>country_id</th>\n",
       "      <th>app_id</th>\n",
       "      <th>network_id</th>\n",
       "      <th>event_date</th>\n",
       "      <th>device_os_version</th>\n",
       "    </tr>\n",
       "  </thead>\n",
       "  <tbody>\n",
       "    <tr>\n",
       "      <th>0</th>\n",
       "      <td>6b168a9f7a13119b87bfeb834d159f6879ff000205cb27...</td>\n",
       "      <td>1</td>\n",
       "      <td>174</td>\n",
       "      <td>26</td>\n",
       "      <td>2022-12-13</td>\n",
       "      <td>10</td>\n",
       "    </tr>\n",
       "    <tr>\n",
       "      <th>1</th>\n",
       "      <td>218ecd973c988fe76dfd247f92e9317485010844163a51...</td>\n",
       "      <td>1</td>\n",
       "      <td>174</td>\n",
       "      <td>60</td>\n",
       "      <td>2022-12-14</td>\n",
       "      <td>10</td>\n",
       "    </tr>\n",
       "    <tr>\n",
       "      <th>2</th>\n",
       "      <td>f67c1382fc3af8a24cb6f23bff381279d582eb67d4043e...</td>\n",
       "      <td>17</td>\n",
       "      <td>122</td>\n",
       "      <td>26</td>\n",
       "      <td>2022-12-30</td>\n",
       "      <td>11</td>\n",
       "    </tr>\n",
       "    <tr>\n",
       "      <th>3</th>\n",
       "      <td>afe4dc7c1663fba7ba3bc7cf6a308c38c1cb409d253f7f...</td>\n",
       "      <td>1</td>\n",
       "      <td>121</td>\n",
       "      <td>1111</td>\n",
       "      <td>2022-12-30</td>\n",
       "      <td>8.0.0</td>\n",
       "    </tr>\n",
       "    <tr>\n",
       "      <th>4</th>\n",
       "      <td>417acac6a6bdb88a83371f8ab482691d16896e8681afcb...</td>\n",
       "      <td>109</td>\n",
       "      <td>325</td>\n",
       "      <td>10</td>\n",
       "      <td>2022-12-05</td>\n",
       "      <td>11</td>\n",
       "    </tr>\n",
       "    <tr>\n",
       "      <th>5</th>\n",
       "      <td>f55033bfdfea456589bcc966f378b20cf9fce7f0f6f8c4...</td>\n",
       "      <td>17</td>\n",
       "      <td>122</td>\n",
       "      <td>26</td>\n",
       "      <td>2022-12-25</td>\n",
       "      <td>12</td>\n",
       "    </tr>\n",
       "    <tr>\n",
       "      <th>6</th>\n",
       "      <td>7d1d7fa4b9400811fd921849b602d158bbe5732e35a42d...</td>\n",
       "      <td>1</td>\n",
       "      <td>277</td>\n",
       "      <td>1111</td>\n",
       "      <td>2022-12-14</td>\n",
       "      <td>16.1.1</td>\n",
       "    </tr>\n",
       "    <tr>\n",
       "      <th>7</th>\n",
       "      <td>b2659cf3bfb08a3e21bdc60e9b70817b67ed9f97ae1928...</td>\n",
       "      <td>1</td>\n",
       "      <td>97</td>\n",
       "      <td>1111</td>\n",
       "      <td>2022-12-30</td>\n",
       "      <td>12</td>\n",
       "    </tr>\n",
       "    <tr>\n",
       "      <th>8</th>\n",
       "      <td>1925c3fd201d204ccad01a6c8e95a53f28b6a6a4bb1b37...</td>\n",
       "      <td>1</td>\n",
       "      <td>374</td>\n",
       "      <td>60</td>\n",
       "      <td>2022-12-25</td>\n",
       "      <td>13</td>\n",
       "    </tr>\n",
       "    <tr>\n",
       "      <th>9</th>\n",
       "      <td>2eba0b65d2c31d2d07cfd254c04df6d205c711dee9b97e...</td>\n",
       "      <td>1</td>\n",
       "      <td>97</td>\n",
       "      <td>26</td>\n",
       "      <td>2022-12-19</td>\n",
       "      <td>12</td>\n",
       "    </tr>\n",
       "  </tbody>\n",
       "</table>\n",
       "</div>"
      ],
      "text/plain": [
       "                                          install_id  country_id  app_id  \\\n",
       "0  6b168a9f7a13119b87bfeb834d159f6879ff000205cb27...           1     174   \n",
       "1  218ecd973c988fe76dfd247f92e9317485010844163a51...           1     174   \n",
       "2  f67c1382fc3af8a24cb6f23bff381279d582eb67d4043e...          17     122   \n",
       "3  afe4dc7c1663fba7ba3bc7cf6a308c38c1cb409d253f7f...           1     121   \n",
       "4  417acac6a6bdb88a83371f8ab482691d16896e8681afcb...         109     325   \n",
       "5  f55033bfdfea456589bcc966f378b20cf9fce7f0f6f8c4...          17     122   \n",
       "6  7d1d7fa4b9400811fd921849b602d158bbe5732e35a42d...           1     277   \n",
       "7  b2659cf3bfb08a3e21bdc60e9b70817b67ed9f97ae1928...           1      97   \n",
       "8  1925c3fd201d204ccad01a6c8e95a53f28b6a6a4bb1b37...           1     374   \n",
       "9  2eba0b65d2c31d2d07cfd254c04df6d205c711dee9b97e...           1      97   \n",
       "\n",
       "   network_id  event_date device_os_version  \n",
       "0          26  2022-12-13                10  \n",
       "1          60  2022-12-14                10  \n",
       "2          26  2022-12-30                11  \n",
       "3        1111  2022-12-30             8.0.0  \n",
       "4          10  2022-12-05                11  \n",
       "5          26  2022-12-25                12  \n",
       "6        1111  2022-12-14            16.1.1  \n",
       "7        1111  2022-12-30                12  \n",
       "8          60  2022-12-25                13  \n",
       "9          26  2022-12-19                12  "
      ]
     },
     "execution_count": 5,
     "metadata": {},
     "output_type": "execute_result"
    }
   ],
   "source": [
    "df_installs.head(10)"
   ]
  },
  {
   "cell_type": "code",
   "execution_count": 6,
   "metadata": {},
   "outputs": [
    {
     "data": {
      "text/html": [
       "<div>\n",
       "<style scoped>\n",
       "    .dataframe tbody tr th:only-of-type {\n",
       "        vertical-align: middle;\n",
       "    }\n",
       "\n",
       "    .dataframe tbody tr th {\n",
       "        vertical-align: top;\n",
       "    }\n",
       "\n",
       "    .dataframe thead th {\n",
       "        text-align: right;\n",
       "    }\n",
       "</style>\n",
       "<table border=\"1\" class=\"dataframe\">\n",
       "  <thead>\n",
       "    <tr style=\"text-align: right;\">\n",
       "      <th></th>\n",
       "      <th>install_id</th>\n",
       "      <th>event_date</th>\n",
       "      <th>value_usd</th>\n",
       "    </tr>\n",
       "  </thead>\n",
       "  <tbody>\n",
       "    <tr>\n",
       "      <th>0</th>\n",
       "      <td>8912076a49c7b17960f8d262dc37599f86cbb3da8912b6...</td>\n",
       "      <td>2022-12-21</td>\n",
       "      <td>0.254376</td>\n",
       "    </tr>\n",
       "    <tr>\n",
       "      <th>1</th>\n",
       "      <td>7488c7b0f3d25cea61e435ea2aa346d3bbf1b946b94b1f...</td>\n",
       "      <td>2022-12-28</td>\n",
       "      <td>0.361216</td>\n",
       "    </tr>\n",
       "    <tr>\n",
       "      <th>2</th>\n",
       "      <td>66ee0cd1d490d9d352b46b443c9d5b5aa5bdabfbdb303b...</td>\n",
       "      <td>2022-12-10</td>\n",
       "      <td>0.359006</td>\n",
       "    </tr>\n",
       "    <tr>\n",
       "      <th>3</th>\n",
       "      <td>66ee0cd1d490d9d352b46b443c9d5b5aa5bdabfbdb303b...</td>\n",
       "      <td>2022-12-10</td>\n",
       "      <td>0.253416</td>\n",
       "    </tr>\n",
       "    <tr>\n",
       "      <th>4</th>\n",
       "      <td>66ee0cd1d490d9d352b46b443c9d5b5aa5bdabfbdb303b...</td>\n",
       "      <td>2022-12-10</td>\n",
       "      <td>0.253416</td>\n",
       "    </tr>\n",
       "    <tr>\n",
       "      <th>5</th>\n",
       "      <td>66ee0cd1d490d9d352b46b443c9d5b5aa5bdabfbdb303b...</td>\n",
       "      <td>2022-12-10</td>\n",
       "      <td>0.253416</td>\n",
       "    </tr>\n",
       "    <tr>\n",
       "      <th>6</th>\n",
       "      <td>66ee0cd1d490d9d352b46b443c9d5b5aa5bdabfbdb303b...</td>\n",
       "      <td>2022-12-10</td>\n",
       "      <td>0.359006</td>\n",
       "    </tr>\n",
       "    <tr>\n",
       "      <th>7</th>\n",
       "      <td>66ee0cd1d490d9d352b46b443c9d5b5aa5bdabfbdb303b...</td>\n",
       "      <td>2022-12-10</td>\n",
       "      <td>0.253416</td>\n",
       "    </tr>\n",
       "    <tr>\n",
       "      <th>8</th>\n",
       "      <td>66ee0cd1d490d9d352b46b443c9d5b5aa5bdabfbdb303b...</td>\n",
       "      <td>2022-12-10</td>\n",
       "      <td>0.359006</td>\n",
       "    </tr>\n",
       "    <tr>\n",
       "      <th>9</th>\n",
       "      <td>66ee0cd1d490d9d352b46b443c9d5b5aa5bdabfbdb303b...</td>\n",
       "      <td>2022-12-10</td>\n",
       "      <td>0.253416</td>\n",
       "    </tr>\n",
       "  </tbody>\n",
       "</table>\n",
       "</div>"
      ],
      "text/plain": [
       "                                          install_id  event_date  value_usd\n",
       "0  8912076a49c7b17960f8d262dc37599f86cbb3da8912b6...  2022-12-21   0.254376\n",
       "1  7488c7b0f3d25cea61e435ea2aa346d3bbf1b946b94b1f...  2022-12-28   0.361216\n",
       "2  66ee0cd1d490d9d352b46b443c9d5b5aa5bdabfbdb303b...  2022-12-10   0.359006\n",
       "3  66ee0cd1d490d9d352b46b443c9d5b5aa5bdabfbdb303b...  2022-12-10   0.253416\n",
       "4  66ee0cd1d490d9d352b46b443c9d5b5aa5bdabfbdb303b...  2022-12-10   0.253416\n",
       "5  66ee0cd1d490d9d352b46b443c9d5b5aa5bdabfbdb303b...  2022-12-10   0.253416\n",
       "6  66ee0cd1d490d9d352b46b443c9d5b5aa5bdabfbdb303b...  2022-12-10   0.359006\n",
       "7  66ee0cd1d490d9d352b46b443c9d5b5aa5bdabfbdb303b...  2022-12-10   0.253416\n",
       "8  66ee0cd1d490d9d352b46b443c9d5b5aa5bdabfbdb303b...  2022-12-10   0.359006\n",
       "9  66ee0cd1d490d9d352b46b443c9d5b5aa5bdabfbdb303b...  2022-12-10   0.253416"
      ]
     },
     "execution_count": 6,
     "metadata": {},
     "output_type": "execute_result"
    }
   ],
   "source": [
    "df_payouts.head(10)"
   ]
  },
  {
   "cell_type": "code",
   "execution_count": 71,
   "metadata": {},
   "outputs": [
    {
     "data": {
      "text/html": [
       "<div>\n",
       "<style scoped>\n",
       "    .dataframe tbody tr th:only-of-type {\n",
       "        vertical-align: middle;\n",
       "    }\n",
       "\n",
       "    .dataframe tbody tr th {\n",
       "        vertical-align: top;\n",
       "    }\n",
       "\n",
       "    .dataframe thead th {\n",
       "        text-align: right;\n",
       "    }\n",
       "</style>\n",
       "<table border=\"1\" class=\"dataframe\">\n",
       "  <thead>\n",
       "    <tr style=\"text-align: right;\">\n",
       "      <th></th>\n",
       "      <th>install_id</th>\n",
       "      <th>event_date</th>\n",
       "      <th>value_usd</th>\n",
       "    </tr>\n",
       "  </thead>\n",
       "  <tbody>\n",
       "    <tr>\n",
       "      <th>2022-12-16</th>\n",
       "      <td>213197bd66cd889d103ab9059709458e49808214837508...</td>\n",
       "      <td>2022-12-16</td>\n",
       "      <td>1.58000</td>\n",
       "    </tr>\n",
       "    <tr>\n",
       "      <th>2022-12-21</th>\n",
       "      <td>251442e25a39fb706e242445db49498ba1d6762c1ff46e...</td>\n",
       "      <td>2022-12-21</td>\n",
       "      <td>6.75000</td>\n",
       "    </tr>\n",
       "    <tr>\n",
       "      <th>2022-12-21</th>\n",
       "      <td>3e7bdaca309c5eea9d4004a0400b5a830f3963bddc71f8...</td>\n",
       "      <td>2022-12-21</td>\n",
       "      <td>1.62000</td>\n",
       "    </tr>\n",
       "    <tr>\n",
       "      <th>2022-12-20</th>\n",
       "      <td>9505bab0515c96b7d8c9a5aeb1fb28ae397b23badb2f03...</td>\n",
       "      <td>2022-12-20</td>\n",
       "      <td>0.00150</td>\n",
       "    </tr>\n",
       "    <tr>\n",
       "      <th>2022-12-16</th>\n",
       "      <td>fa69bdded229f9ebb18290559d77cefbd8e5ad83d74b86...</td>\n",
       "      <td>2022-12-16</td>\n",
       "      <td>0.54000</td>\n",
       "    </tr>\n",
       "    <tr>\n",
       "      <th>2022-12-16</th>\n",
       "      <td>b6037b80344fc4702061fd30c227d410e4bc8268b1df95...</td>\n",
       "      <td>2022-12-16</td>\n",
       "      <td>0.00003</td>\n",
       "    </tr>\n",
       "    <tr>\n",
       "      <th>2022-12-16</th>\n",
       "      <td>b6037b80344fc4702061fd30c227d410e4bc8268b1df95...</td>\n",
       "      <td>2022-12-16</td>\n",
       "      <td>0.00001</td>\n",
       "    </tr>\n",
       "    <tr>\n",
       "      <th>2022-12-16</th>\n",
       "      <td>b6037b80344fc4702061fd30c227d410e4bc8268b1df95...</td>\n",
       "      <td>2022-12-16</td>\n",
       "      <td>0.00001</td>\n",
       "    </tr>\n",
       "    <tr>\n",
       "      <th>2022-12-16</th>\n",
       "      <td>b6037b80344fc4702061fd30c227d410e4bc8268b1df95...</td>\n",
       "      <td>2022-12-16</td>\n",
       "      <td>0.00001</td>\n",
       "    </tr>\n",
       "    <tr>\n",
       "      <th>2022-12-16</th>\n",
       "      <td>b6037b80344fc4702061fd30c227d410e4bc8268b1df95...</td>\n",
       "      <td>2022-12-16</td>\n",
       "      <td>0.00011</td>\n",
       "    </tr>\n",
       "  </tbody>\n",
       "</table>\n",
       "</div>"
      ],
      "text/plain": [
       "                                                   install_id  event_date  \\\n",
       "2022-12-16  213197bd66cd889d103ab9059709458e49808214837508...  2022-12-16   \n",
       "2022-12-21  251442e25a39fb706e242445db49498ba1d6762c1ff46e...  2022-12-21   \n",
       "2022-12-21  3e7bdaca309c5eea9d4004a0400b5a830f3963bddc71f8...  2022-12-21   \n",
       "2022-12-20  9505bab0515c96b7d8c9a5aeb1fb28ae397b23badb2f03...  2022-12-20   \n",
       "2022-12-16  fa69bdded229f9ebb18290559d77cefbd8e5ad83d74b86...  2022-12-16   \n",
       "2022-12-16  b6037b80344fc4702061fd30c227d410e4bc8268b1df95...  2022-12-16   \n",
       "2022-12-16  b6037b80344fc4702061fd30c227d410e4bc8268b1df95...  2022-12-16   \n",
       "2022-12-16  b6037b80344fc4702061fd30c227d410e4bc8268b1df95...  2022-12-16   \n",
       "2022-12-16  b6037b80344fc4702061fd30c227d410e4bc8268b1df95...  2022-12-16   \n",
       "2022-12-16  b6037b80344fc4702061fd30c227d410e4bc8268b1df95...  2022-12-16   \n",
       "\n",
       "            value_usd  \n",
       "2022-12-16    1.58000  \n",
       "2022-12-21    6.75000  \n",
       "2022-12-21    1.62000  \n",
       "2022-12-20    0.00150  \n",
       "2022-12-16    0.54000  \n",
       "2022-12-16    0.00003  \n",
       "2022-12-16    0.00001  \n",
       "2022-12-16    0.00001  \n",
       "2022-12-16    0.00001  \n",
       "2022-12-16    0.00011  "
      ]
     },
     "execution_count": 71,
     "metadata": {},
     "output_type": "execute_result"
    }
   ],
   "source": [
    "df_revenue.head(10)"
   ]
  },
  {
   "cell_type": "code",
   "execution_count": 12,
   "metadata": {},
   "outputs": [
    {
     "data": {
      "text/plain": [
       "<AxesSubplot:>"
      ]
     },
     "execution_count": 12,
     "metadata": {},
     "output_type": "execute_result"
    },
    {
     "data": {
      "image/png": "[encoded data removed]",
      "text/plain": [
       "<Figure size 432x288 with 1 Axes>"
      ]
     },
     "metadata": {},
     "output_type": "display_data"
    }
   ],
   "source": [
    "df_adspend.plot()\n"
   ]
  },
  {
   "cell_type": "code",
   "execution_count": 13,
   "metadata": {},
   "outputs": [
    {
     "data": {
      "text/plain": [
       "<AxesSubplot:>"
      ]
     },
     "execution_count": 13,
     "metadata": {},
     "output_type": "execute_result"
    },
    {
     "data": {
      "image/png": "[encoded data removed]",
      "text/plain": [
       "<Figure size 432x288 with 1 Axes>"
      ]
     },
     "metadata": {},
     "output_type": "display_data"
    }
   ],
   "source": [
    "df_revenue.plot()"
   ]
  },
  {
   "cell_type": "code",
   "execution_count": 27,
   "metadata": {},
   "outputs": [
    {
     "data": {
      "text/plain": [
       "<AxesSubplot:>"
      ]
     },
     "execution_count": 27,
     "metadata": {},
     "output_type": "execute_result"
    },
    {
     "data": {
      "image/png": "[encoded data removed]",
      "text/plain": [
       "<Figure size 432x288 with 1 Axes>"
      ]
     },
     "metadata": {},
     "output_type": "display_data"
    }
   ],
   "source": [
    "df_revenue.index = pd.to_datetime(np.array(df_revenue.event_date))\n",
    "df_revenue_m = df_revenue.resample('M').sum()\n",
    "df_revenue_m.plot()\n"
   ]
  },
  {
   "attachments": {},
   "cell_type": "markdown",
   "metadata": {},
   "source": [
    "## Revenue vs Downloads\n",
    "\n",
    "At the begining of the year (first quarter) each installation event of the apps produces less money than at the middle and the end of the year. We can find the ratio between the amount of revenue events and the amount of money it produces:"
   ]
  },
  {
   "cell_type": "code",
   "execution_count": 58,
   "metadata": {},
   "outputs": [
    {
     "data": {
      "text/plain": [
       "<AxesSubplot:>"
      ]
     },
     "execution_count": 58,
     "metadata": {},
     "output_type": "execute_result"
    },
    {
     "data": {
      "image/png": "[encoded data removed]",
      "text/plain": [
       "<Figure size 432x288 with 1 Axes>"
      ]
     },
     "metadata": {},
     "output_type": "display_data"
    }
   ],
   "source": [
    "df_revenue_q_sum = df_revenue.resample('Q-JAN').sum()\n",
    "df_revenue_q_sum.plot()\n"
   ]
  },
  {
   "cell_type": "code",
   "execution_count": 64,
   "metadata": {},
   "outputs": [
    {
     "data": {
      "text/plain": [
       "<AxesSubplot:>"
      ]
     },
     "execution_count": 64,
     "metadata": {},
     "output_type": "execute_result"
    },
    {
     "data": {
      "image/png": "[encoded data removed]",
      "text/plain": [
       "<Figure size 432x288 with 1 Axes>"
      ]
     },
     "metadata": {},
     "output_type": "display_data"
    }
   ],
   "source": [
    "df_revenue_q_count = df_revenue.resample('Q-JAN').count()\n",
    "df_revenue_q_count = df_revenue_q_count.rename(columns={'value_usd': 'event_count'})\n",
    "df_revenue_q_count.plot()\n"
   ]
  },
  {
   "cell_type": "code",
   "execution_count": 70,
   "metadata": {},
   "outputs": [
    {
     "data": {
      "text/html": [
       "<div>\n",
       "<style scoped>\n",
       "    .dataframe tbody tr th:only-of-type {\n",
       "        vertical-align: middle;\n",
       "    }\n",
       "\n",
       "    .dataframe tbody tr th {\n",
       "        vertical-align: top;\n",
       "    }\n",
       "\n",
       "    .dataframe thead th {\n",
       "        text-align: right;\n",
       "    }\n",
       "</style>\n",
       "<table border=\"1\" class=\"dataframe\">\n",
       "  <thead>\n",
       "    <tr style=\"text-align: right;\">\n",
       "      <th></th>\n",
       "      <th>value_usd</th>\n",
       "      <th>event_count</th>\n",
       "      <th>ratio</th>\n",
       "    </tr>\n",
       "  </thead>\n",
       "  <tbody>\n",
       "    <tr>\n",
       "      <th>2022-01-31</th>\n",
       "      <td>32226.471053</td>\n",
       "      <td>306253</td>\n",
       "      <td>0.105228</td>\n",
       "    </tr>\n",
       "    <tr>\n",
       "      <th>2022-04-30</th>\n",
       "      <td>80275.805930</td>\n",
       "      <td>689764</td>\n",
       "      <td>0.116382</td>\n",
       "    </tr>\n",
       "    <tr>\n",
       "      <th>2022-07-31</th>\n",
       "      <td>95656.035227</td>\n",
       "      <td>475592</td>\n",
       "      <td>0.201130</td>\n",
       "    </tr>\n",
       "    <tr>\n",
       "      <th>2022-10-31</th>\n",
       "      <td>113727.459666</td>\n",
       "      <td>545436</td>\n",
       "      <td>0.208507</td>\n",
       "    </tr>\n",
       "    <tr>\n",
       "      <th>2023-01-31</th>\n",
       "      <td>96959.475241</td>\n",
       "      <td>612269</td>\n",
       "      <td>0.158361</td>\n",
       "    </tr>\n",
       "  </tbody>\n",
       "</table>\n",
       "</div>"
      ],
      "text/plain": [
       "                value_usd  event_count     ratio\n",
       "2022-01-31   32226.471053       306253  0.105228\n",
       "2022-04-30   80275.805930       689764  0.116382\n",
       "2022-07-31   95656.035227       475592  0.201130\n",
       "2022-10-31  113727.459666       545436  0.208507\n",
       "2023-01-31   96959.475241       612269  0.158361"
      ]
     },
     "execution_count": 70,
     "metadata": {},
     "output_type": "execute_result"
    }
   ],
   "source": [
    "df_revenue_q_sum"
   ]
  },
  {
   "cell_type": "code",
   "execution_count": 60,
   "metadata": {},
   "outputs": [
    {
     "data": {
      "text/html": [
       "<div>\n",
       "<style scoped>\n",
       "    .dataframe tbody tr th:only-of-type {\n",
       "        vertical-align: middle;\n",
       "    }\n",
       "\n",
       "    .dataframe tbody tr th {\n",
       "        vertical-align: top;\n",
       "    }\n",
       "\n",
       "    .dataframe thead th {\n",
       "        text-align: right;\n",
       "    }\n",
       "</style>\n",
       "<table border=\"1\" class=\"dataframe\">\n",
       "  <thead>\n",
       "    <tr style=\"text-align: right;\">\n",
       "      <th></th>\n",
       "      <th>install_id</th>\n",
       "      <th>event_date</th>\n",
       "      <th>event_count</th>\n",
       "    </tr>\n",
       "  </thead>\n",
       "  <tbody>\n",
       "    <tr>\n",
       "      <th>2022-01-31</th>\n",
       "      <td>306253</td>\n",
       "      <td>306253</td>\n",
       "      <td>306253</td>\n",
       "    </tr>\n",
       "    <tr>\n",
       "      <th>2022-04-30</th>\n",
       "      <td>689764</td>\n",
       "      <td>689764</td>\n",
       "      <td>689764</td>\n",
       "    </tr>\n",
       "    <tr>\n",
       "      <th>2022-07-31</th>\n",
       "      <td>475592</td>\n",
       "      <td>475592</td>\n",
       "      <td>475592</td>\n",
       "    </tr>\n",
       "    <tr>\n",
       "      <th>2022-10-31</th>\n",
       "      <td>545436</td>\n",
       "      <td>545436</td>\n",
       "      <td>545436</td>\n",
       "    </tr>\n",
       "    <tr>\n",
       "      <th>2023-01-31</th>\n",
       "      <td>612269</td>\n",
       "      <td>612269</td>\n",
       "      <td>612269</td>\n",
       "    </tr>\n",
       "  </tbody>\n",
       "</table>\n",
       "</div>"
      ],
      "text/plain": [
       "            install_id  event_date  event_count\n",
       "2022-01-31      306253      306253       306253\n",
       "2022-04-30      689764      689764       689764\n",
       "2022-07-31      475592      475592       475592\n",
       "2022-10-31      545436      545436       545436\n",
       "2023-01-31      612269      612269       612269"
      ]
     },
     "execution_count": 60,
     "metadata": {},
     "output_type": "execute_result"
    }
   ],
   "source": [
    "df_revenue_q_count"
   ]
  },
  {
   "cell_type": "code",
   "execution_count": 69,
   "metadata": {},
   "outputs": [
    {
     "data": {
      "text/html": [
       "<div>\n",
       "<style scoped>\n",
       "    .dataframe tbody tr th:only-of-type {\n",
       "        vertical-align: middle;\n",
       "    }\n",
       "\n",
       "    .dataframe tbody tr th {\n",
       "        vertical-align: top;\n",
       "    }\n",
       "\n",
       "    .dataframe thead th {\n",
       "        text-align: right;\n",
       "    }\n",
       "</style>\n",
       "<table border=\"1\" class=\"dataframe\">\n",
       "  <thead>\n",
       "    <tr style=\"text-align: right;\">\n",
       "      <th></th>\n",
       "      <th>value_usd</th>\n",
       "      <th>event_count</th>\n",
       "      <th>ratio</th>\n",
       "    </tr>\n",
       "  </thead>\n",
       "  <tbody>\n",
       "    <tr>\n",
       "      <th>2022-01-31</th>\n",
       "      <td>32226.471053</td>\n",
       "      <td>306253</td>\n",
       "      <td>0.105228</td>\n",
       "    </tr>\n",
       "    <tr>\n",
       "      <th>2022-04-30</th>\n",
       "      <td>80275.805930</td>\n",
       "      <td>689764</td>\n",
       "      <td>0.116382</td>\n",
       "    </tr>\n",
       "    <tr>\n",
       "      <th>2022-07-31</th>\n",
       "      <td>95656.035227</td>\n",
       "      <td>475592</td>\n",
       "      <td>0.201130</td>\n",
       "    </tr>\n",
       "    <tr>\n",
       "      <th>2022-10-31</th>\n",
       "      <td>113727.459666</td>\n",
       "      <td>545436</td>\n",
       "      <td>0.208507</td>\n",
       "    </tr>\n",
       "    <tr>\n",
       "      <th>2023-01-31</th>\n",
       "      <td>96959.475241</td>\n",
       "      <td>612269</td>\n",
       "      <td>0.158361</td>\n",
       "    </tr>\n",
       "  </tbody>\n",
       "</table>\n",
       "</div>"
      ],
      "text/plain": [
       "                value_usd  event_count     ratio\n",
       "2022-01-31   32226.471053       306253  0.105228\n",
       "2022-04-30   80275.805930       689764  0.116382\n",
       "2022-07-31   95656.035227       475592  0.201130\n",
       "2022-10-31  113727.459666       545436  0.208507\n",
       "2023-01-31   96959.475241       612269  0.158361"
      ]
     },
     "execution_count": 69,
     "metadata": {},
     "output_type": "execute_result"
    }
   ],
   "source": [
    "df_revenue_q_sum['event_count'] = df_revenue_q_count['event_count']\n",
    "df_revenue_q_sum['ratio'] = df_revenue_q_sum['value_usd'] / \\\n",
    "    df_revenue_q_sum['event_count']\n",
    "df_revenue_q_sum.head()"
   ]
  },
  {
   "cell_type": "code",
   "execution_count": 66,
   "metadata": {},
   "outputs": [
    {
     "data": {
      "text/plain": [
       "<AxesSubplot:>"
      ]
     },
     "execution_count": 66,
     "metadata": {},
     "output_type": "execute_result"
    },
    {
     "data": {
      "image/png": "[encoded data removed]",
      "text/plain": [
       "<Figure size 432x288 with 1 Axes>"
      ]
     },
     "metadata": {},
     "output_type": "display_data"
    }
   ],
   "source": [
    "df_revenue_q_sum['ratio'].plot()"
   ]
  },
  {
   "cell_type": "code",
   "execution_count": 26,
   "metadata": {},
   "outputs": [
    {
     "data": {
      "text/html": [
       "<div>\n",
       "<style scoped>\n",
       "    .dataframe tbody tr th:only-of-type {\n",
       "        vertical-align: middle;\n",
       "    }\n",
       "\n",
       "    .dataframe tbody tr th {\n",
       "        vertical-align: top;\n",
       "    }\n",
       "\n",
       "    .dataframe thead th {\n",
       "        text-align: right;\n",
       "    }\n",
       "</style>\n",
       "<table border=\"1\" class=\"dataframe\">\n",
       "  <thead>\n",
       "    <tr style=\"text-align: right;\">\n",
       "      <th></th>\n",
       "      <th>value_usd</th>\n",
       "    </tr>\n",
       "  </thead>\n",
       "  <tbody>\n",
       "    <tr>\n",
       "      <th>2022-01-31</th>\n",
       "      <td>32226.471053</td>\n",
       "    </tr>\n",
       "    <tr>\n",
       "      <th>2022-02-28</th>\n",
       "      <td>32384.269403</td>\n",
       "    </tr>\n",
       "    <tr>\n",
       "      <th>2022-03-31</th>\n",
       "      <td>26813.231341</td>\n",
       "    </tr>\n",
       "    <tr>\n",
       "      <th>2022-04-30</th>\n",
       "      <td>21078.305186</td>\n",
       "    </tr>\n",
       "    <tr>\n",
       "      <th>2022-05-31</th>\n",
       "      <td>27870.085410</td>\n",
       "    </tr>\n",
       "  </tbody>\n",
       "</table>\n",
       "</div>"
      ],
      "text/plain": [
       "               value_usd\n",
       "2022-01-31  32226.471053\n",
       "2022-02-28  32384.269403\n",
       "2022-03-31  26813.231341\n",
       "2022-04-30  21078.305186\n",
       "2022-05-31  27870.085410"
      ]
     },
     "execution_count": 26,
     "metadata": {},
     "output_type": "execute_result"
    }
   ],
   "source": [
    "df_revenue.index = pd.to_datetime(np.array(df_revenue.event_date))\n",
    "df_revenue_m = df_revenue.resample('M').sum()\n",
    "df_revenue_m.head()"
   ]
  }
 ],
 "metadata": {
  "kernelspec": {
   "display_name": "Python 3",
   "language": "python",
   "name": "python3"
  },
  "language_info": {
   "codemirror_mode": {
    "name": "ipython",
    "version": 3
   },
   "file_extension": ".py",
   "mimetype": "text/x-python",
   "name": "python",
   "nbconvert_exporter": "python",
   "pygments_lexer": "ipython3",
   "version": "3.9.2"
  },
  "orig_nbformat": 4
 },
 "nbformat": 4,
 "nbformat_minor": 2
}
